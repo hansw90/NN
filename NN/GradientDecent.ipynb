{
 "cells": [
  {
   "cell_type": "markdown",
   "metadata": {},
   "source": [
    "# (3) Gradient Decent \n",
    "\n",
    "(참고 : https://hunkim.github.io/ml/ )\n",
    "\n",
    "!['HTMC'](https://miro.medium.com/max/1840/1*92Ac9THHMIMTt8V0us-vqg.png)\n",
    "\n",
    "Grandient decent algorithm\n",
    "- Minimize cost function\n",
    "- Gradient descent is used many minimization problems\n",
    "- For a given cost function, cost(W,b), it will find W,b to minimize cost\n",
    "- It can be applied to more general function : cost(w1,w2,...)\n",
    "\n",
    "\n",
    "- cost 함수 그래프를 그리면 위와같은 2차원 포물선이 그려집니다\n",
    "- Gradient(경사) decent(내려감) 이라는 뜻\n",
    "- Gradient Decent Algorithm\n",
    "    - 최소화 문제의 경우에 많이 사용\n",
    "    - cost(w1,w2,3...)등 다양한 변수가 있는 경우에도 사용 가능\n",
    "    \n",
    "## How it works?\n",
    "- start with initial guesses\n",
    "    - Start at 0,0(or any other value)\n",
    "    - Keeping changing W and b a little bit to try and reduce cost(W,b)\n",
    "- Each time you change the parameters, you select the gradient which reduces cost(W,b) the most possible\n",
    "- Repeat\n",
    "- Do so untill you converge to a local minimum\n",
    "- Has an interesting property\n",
    "    - Where you start can determine which you end up\n",
    "    \n",
    "!['2'](https://miro.medium.com/max/1840/1*cdVe5TrBgR2ezgOGi46B_w.png)\n",
    "\n",
    "미분 후의 수식을 간단하기 위해서 2를 적는다.\n",
    "\n",
    "![3](https://miro.medium.com/max/1850/1*W9ArbeR20mIbemc7spRs8g.png)\n",
    "\n",
    "![4](https://miro.medium.com/max/1853/1*UkIjo17ovvd4deEEt-KgWA.png)"
   ]
  },
  {
   "cell_type": "markdown",
   "metadata": {},
   "source": [
    "- 알파는 learning rate라는 상수값\n",
    "- 알파에 cost 함수를 미분한 것(기울기)를 곱함\n",
    "- 기울기가 양의 값이면 W를 감소, \n",
    "    기울기가 음의 값이면 W를 증가시키는 결과를 가져온다"
   ]
  },
  {
   "cell_type": "markdown",
   "metadata": {},
   "source": [
    "![5](https://miro.medium.com/max/1848/1*Al2r4PvGphnuqCJ3-YaARg.png)\n",
    "\n",
    "- cost function 이 위와 같은 형태이면 시작점에 따라 minimize 하는 부분이 달라짐, 즉 알고리즘이 제대로 작동하지 못합니다"
   ]
  },
  {
   "cell_type": "markdown",
   "metadata": {},
   "source": [
    "![6](https://miro.medium.com/max/1853/1*qv-mdHrWNPAysWVvhXCV9A.png)\n",
    "\n",
    "- Convex function 은 위와 같은 그래프 형태를 말합니다\n",
    "- Gradient Decent 알고리즘은 위와 같이 cost function 이 Convex function 일 때는 항상 만족합니다"
   ]
  },
  {
   "cell_type": "markdown",
   "metadata": {},
   "source": [
    "Minimizing Cost\n",
    "이제 직접 코드를 확인토록 해보겠습니다."
   ]
  },
  {
   "cell_type": "code",
   "execution_count": 1,
   "metadata": {},
   "outputs": [],
   "source": [
    "import tensorflow as tf\n",
    "import matplotlib.pyplot as plt"
   ]
  },
  {
   "cell_type": "code",
   "execution_count": 2,
   "metadata": {},
   "outputs": [],
   "source": [
    "X = [1.,2.,3.]\n",
    "Y = [1.,2.,3.]\n",
    "m = n_samples = len(X)"
   ]
  },
  {
   "cell_type": "code",
   "execution_count": 11,
   "metadata": {},
   "outputs": [],
   "source": [
    "# Set model weight\n",
    "W = tf.placeholder(tf.float32)"
   ]
  },
  {
   "cell_type": "markdown",
   "metadata": {},
   "source": [
    "placeholder : 학습용 데이타를 담는 그릇을 플레이스홀더라 한다.  \n",
    "\n",
    "플레이스홀더에 대해서 알아보면, 플레이스 홀더의 위의 그래프에서 x 즉 입력값을 저장하는 일종의 통(버킷)이다.  \n",
    "\n",
    "tf.placeholder(dtype,shape,name)으로 정의된다.  \n",
    "\n",
    "플레이스 홀더 정의에 사용되는 변수들을 보면\n",
    "\n",
    "- dtype : 플레이스홀더에 저장되는 데이타형이다. tf.float32와 같이 실수,정수등의 데이타 타입을 정의한다.\n",
    "- shape : 행렬의 차원을 정의한다. shapre=[3,3]으로 정의해주면, 이 플레이스홀더는 3x3 행렬을 저장하게 된다.\n",
    "- name : name은 이 플레이스 홀더의 이름을 정의한다. name에 대해서는 나중에 좀 더 자세하게 설명하도록 하겠다.\n"
   ]
  },
  {
   "cell_type": "code",
   "execution_count": 12,
   "metadata": {},
   "outputs": [
    {
     "name": "stdout",
     "output_type": "stream",
     "text": [
      "[ 2.  4.  6.  8. 10.]\n"
     ]
    }
   ],
   "source": [
    "# placeholder 사용예제\n",
    "\n",
    "input_data = [1,2,3,4,5]\n",
    "\n",
    "x = tf.placeholder(dtype=tf.float32)\n",
    "y = x * 2\n",
    "\n",
    "sess = tf.Session()\n",
    "result = sess.run(y,feed_dict={x:input_data})\n",
    "# 위와 같이 세션을 통해서 그래프를 실행할 때, feed_dict 변수를 이용해서 플레이스홀더 x에, input_data를 피드하면, 세션에 의해서 그래프가 실행되면서 x는 feed_dict에 의해서 정해진 피드 데이타 [1,2,3,4,5]를 하나씩 읽어서 실행한다.\n",
    "\n",
    "print(result)"
   ]
  },
  {
   "cell_type": "code",
   "execution_count": 13,
   "metadata": {},
   "outputs": [],
   "source": [
    "# Construct a linear model\n",
    "hypothesis = tf.multiply(X, W)"
   ]
  },
  {
   "cell_type": "code",
   "execution_count": 14,
   "metadata": {},
   "outputs": [],
   "source": [
    "# Cost function\n",
    "cost = tf.reduce_sum(tf.pow(hypothesis-Y, 2))/(m)"
   ]
  },
  {
   "cell_type": "code",
   "execution_count": 19,
   "metadata": {},
   "outputs": [],
   "source": [
    "# initializing the variables\n",
    "init = tf.initialize_all_variables()\n",
    "\n",
    "# 위 코드는 ‘cost = (예측치-실제치)² / m’ 공식을 코드로 작성한 것입니다. hypothesis는 W*X로 단순화했습니다."
   ]
  },
  {
   "cell_type": "code",
   "execution_count": 20,
   "metadata": {},
   "outputs": [],
   "source": [
    "# For graph\n",
    "W_val = []\n",
    "cost_val = []"
   ]
  },
  {
   "cell_type": "code",
   "execution_count": 21,
   "metadata": {},
   "outputs": [
    {
     "name": "stdout",
     "output_type": "stream",
     "text": [
      "-3.0 74.66667\n",
      "-2.9000000000000004 70.98001\n",
      "-2.8000000000000003 67.386665\n",
      "-2.7 63.88667\n",
      "-2.6 60.479992\n",
      "-2.5 57.166668\n",
      "-2.4000000000000004 53.94668\n",
      "-2.3000000000000003 50.82\n",
      "-2.2 47.786674\n",
      "-2.1 44.84666\n",
      "-2.0 42.0\n",
      "-1.9000000000000001 39.246666\n",
      "-1.8 36.586662\n",
      "-1.7000000000000002 34.020004\n",
      "-1.6 31.546667\n",
      "-1.5 29.166668\n",
      "-1.4000000000000001 26.880001\n",
      "-1.3 24.686666\n",
      "-1.2000000000000002 22.58667\n",
      "-1.1 20.58\n",
      "-1.0 18.666668\n",
      "-0.9 16.846666\n",
      "-0.8 15.120001\n",
      "-0.7000000000000001 13.486667\n",
      "-0.6000000000000001 11.946669\n",
      "-0.5 10.5\n",
      "-0.4 9.146666\n",
      "-0.30000000000000004 7.886667\n",
      "-0.2 6.7200003\n",
      "-0.1 5.6466665\n",
      "0.0 4.666667\n",
      "0.1 3.7800002\n",
      "0.2 2.9866672\n",
      "0.30000000000000004 2.2866664\n",
      "0.4 1.6800001\n",
      "0.5 1.1666667\n",
      "0.6000000000000001 0.7466666\n",
      "0.7000000000000001 0.42000008\n",
      "0.8 0.18666664\n",
      "0.9 0.04666671\n",
      "1.0 0.0\n",
      "1.1 0.04666671\n",
      "1.2000000000000002 0.18666676\n",
      "1.3 0.4199999\n",
      "1.4000000000000001 0.74666655\n",
      "1.5 1.1666667\n",
      "1.6 1.6800003\n",
      "1.7000000000000002 2.2866673\n",
      "1.8 2.9866662\n",
      "1.9000000000000001 3.7799995\n",
      "2.0 4.666667\n",
      "2.1 5.6466665\n",
      "2.2 6.720001\n",
      "2.3000000000000003 7.8866653\n",
      "2.4000000000000004 9.146668\n",
      "2.5 10.5\n",
      "2.6 11.946666\n",
      "2.7 13.48667\n",
      "2.8000000000000003 15.119998\n",
      "2.9000000000000004 16.84667\n",
      "3.0 18.666668\n",
      "3.1 20.579998\n",
      "3.2 22.58667\n",
      "3.3000000000000003 24.686666\n",
      "3.4000000000000004 26.880005\n",
      "3.5 29.166668\n",
      "3.6 31.546661\n",
      "3.7 34.020004\n",
      "3.8000000000000003 36.586662\n",
      "3.9000000000000004 39.246674\n",
      "4.0 42.0\n",
      "4.1000000000000005 44.84666\n",
      "4.2 47.786663\n",
      "4.3 50.820007\n",
      "4.4 53.94668\n",
      "4.5 57.166668\n",
      "4.6000000000000005 60.479992\n",
      "4.7 63.886658\n",
      "4.800000000000001 67.38667\n",
      "4.9 70.98001\n"
     ]
    },
    {
     "data": {
      "image/png": "[encoded data removed]",
      "text/plain": [
       "<Figure size 432x288 with 1 Axes>"
      ]
     },
     "metadata": {
      "needs_background": "light"
     },
     "output_type": "display_data"
    }
   ],
   "source": [
    "# Launch the graph\n",
    "sess = tf.Session()\n",
    "sess.run(init)\n",
    "for i in range(-30, 50):\n",
    "    print( i*0.1, sess.run(cost, feed_dict={W: i*0.1}))\n",
    "    \n",
    "    # 그래프를 위한 데이터 추가\n",
    "    W_val.append( i*0.1)\n",
    "    cost_val.append(sess.run(cost, feed_dict={W: i*0.1}))\n",
    "\n",
    "# Graphic display\n",
    "plt.plot(W_val, cost_val, 'ro')\n",
    "plt.ylabel('Cost')\n",
    "plt.xlabel('W')\n",
    "plt.show()"
   ]
  },
  {
   "cell_type": "markdown",
   "metadata": {},
   "source": [
    "- W가 1일 때 cost function이 최저\n",
    "- 이를 convex function 이라고 부름\n",
    "- gradient descent 알고리즘을 적용하기에 적합함을 알 수 있음"
   ]
  },
  {
   "cell_type": "code",
   "execution_count": 22,
   "metadata": {},
   "outputs": [],
   "source": [
    "import tensorflow as tf\n",
    "x_data = [1., 2., 3.]\n",
    "y_data = [1., 2., 3.]\n",
    "# W에 -10부터 10까지 랜덤한 값을 부여,\n",
    "# tf.random_uniform[1] : 랜덤한 값 '1개' 생성\n",
    "# 랜덤 값 5개 생성은 tf.random_uniform[5]\n",
    "W = tf.Variable(tf.random_uniform([1],-10.0, 10.0))\n",
    "X = tf.placeholder(tf.float32)\n",
    "Y = tf.placeholder(tf.float32)\n",
    "# 우리의 가정, 절편없이 단순화함\n",
    "hyphothesis = W * X\n",
    "# cost function\n",
    "cost = tf.reduce_mean(tf.square(hyphothesis - Y))"
   ]
  },
  {
   "cell_type": "code",
   "execution_count": 25,
   "metadata": {},
   "outputs": [],
   "source": [
    "# minimize\n",
    "# Gradient Descent algorithm 부분\n",
    "# learning rate는 0.1\n",
    "descent = W - tf.multiply( 0.1, tf.reduce_mean(tf.multiply( (tf.multiply(W,X)-Y), X ) ))\n",
    "# 이것은 단지 operation!\n",
    "#= W.assign(descent)\n",
    "#update = W.assign(descent)"
   ]
  },
  {
   "cell_type": "code",
   "execution_count": 26,
   "metadata": {},
   "outputs": [
    {
     "name": "stdout",
     "output_type": "stream",
     "text": [
      "0 9.308622 [2.4123402]\n",
      "1 2.6477847 [1.753248]\n",
      "2 0.75314736 [1.4017322]\n",
      "3 0.21422876 [1.2142572]\n",
      "4 0.060936198 [1.1142706]\n",
      "5 0.01733298 [1.0609443]\n",
      "6 0.00493026 [1.0325036]\n",
      "7 0.0014023874 [1.0173353]\n",
      "8 0.00039890673 [1.0092455]\n",
      "9 0.00011346765 [1.004931]\n",
      "10 3.2276454e-05 [1.0026299]\n",
      "11 9.180888e-06 [1.0014026]\n",
      "12 2.6111077e-06 [1.000748]\n",
      "13 7.4281866e-07 [1.000399]\n",
      "14 2.1135264e-07 [1.0002128]\n",
      "15 6.010365e-08 [1.0001135]\n",
      "16 1.7114113e-08 [1.0000606]\n",
      "17 4.862713e-09 [1.0000323]\n",
      "18 1.3984476e-09 [1.0000173]\n",
      "19 3.953886e-10 [1.0000092]\n"
     ]
    }
   ],
   "source": [
    "# 변수 초기화\n",
    "init = tf.initialize_all_variables()\n",
    "# Launch the graph\n",
    "sess = tf.Session()\n",
    "sess.run(init)\n",
    "# Fit the line\n",
    "for step in range(20):\n",
    "    sess.run(W.assign(descent), feed_dict={X:x_data, Y:y_data})\n",
    "    print( step, sess.run(cost, feed_dict={X:x_data, Y:y_data}), sess.run(W))"
   ]
  },
  {
   "cell_type": "code",
   "execution_count": null,
   "metadata": {},
   "outputs": [],
   "source": []
  }
 ],
 "metadata": {
  "kernelspec": {
   "display_name": "Python 3",
   "language": "python",
   "name": "python3"
  },
  "language_info": {
   "codemirror_mode": {
    "name": "ipython",
    "version": 3
   },
   "file_extension": ".py",
   "mimetype": "text/x-python",
   "name": "python",
   "nbconvert_exporter": "python",
   "pygments_lexer": "ipython3",
   "version": "3.7.4"
  }
 },
 "nbformat": 4,
 "nbformat_minor": 2
}
